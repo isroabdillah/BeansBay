{
  "nbformat": 4,
  "nbformat_minor": 0,
  "metadata": {
    "colab": {
      "provenance": []
    },
    "kernelspec": {
      "name": "python3",
      "display_name": "Python 3"
    },
    "language_info": {
      "name": "python"
    }
  },
  "cells": [
    {
      "cell_type": "code",
      "execution_count": null,
      "metadata": {
        "id": "h2XATWoY3TOi"
      },
      "outputs": [],
      "source": [
        "import tensorflow as tf\n",
        "from tensorflow.keras.models import Model\n",
        "from tensorflow.keras.layers import Input, Dense, Concatenate, Embedding, Flatten\n",
        "from tensorflow.keras.optimizers import Adam"
      ]
    },
    {
      "cell_type": "code",
      "source": [
        "# Data barang\n",
        "barang_data = [\n",
        "    (1, 'Arabika', 'Kopi Single Origin Ethiopia', 'Visa'),\n",
        "    (2, 'Robusta', 'Kopi Robusta Vietnam', 'Fikri'),\n",
        "    (3, 'Luwak', 'Kopi Luwak', 'Visa'),\n",
        "    (4, 'Campuran', 'Kopi Mocha', 'Fikri'),\n",
        "    (5, 'Excelsa', 'Kopi Excelsa', 'Visa')\n",
        "]"
      ],
      "metadata": {
        "id": "JbYhG7954hdX"
      },
      "execution_count": null,
      "outputs": []
    },
    {
      "cell_type": "code",
      "source": [
        "# Data preferensi pengguna\n",
        "user_category_preferences = ['Kopi Single Origin Ethiopia', 'Kopi Robusta Vietnam', 'Kopi Mocha']\n",
        "user_merchant_preferences = ['Visa', 'Fikri', 'Visa']"
      ],
      "metadata": {
        "id": "qdSV26bf3gI6"
      },
      "execution_count": null,
      "outputs": []
    },
    {
      "cell_type": "code",
      "source": [
        "# Membangun model content-based filtering\n",
        "def build_model(num_categories, num_merchants, embedding_dim):\n",
        "    # Input layer\n",
        "    category_input = Input(shape=(1,))\n",
        "    merchant_input = Input(shape=(1,))\n",
        "\n",
        "    # Embedding layer untuk kategori\n",
        "    category_embedding = Embedding(num_categories, embedding_dim)(category_input)\n",
        "    category_embedding = Flatten()(category_embedding)\n",
        "\n",
        "    # Embedding layer untuk merchant\n",
        "    merchant_embedding = Embedding(num_merchants, embedding_dim)(merchant_input)\n",
        "    merchant_embedding = Flatten()(merchant_embedding)\n",
        "\n",
        "    # Menggabungkan embedding kategori dan merchant\n",
        "    merged_embedding = Concatenate()([category_embedding, merchant_embedding])\n",
        "\n",
        "    # Layer Dense untuk prediksi\n",
        "    output = Dense(1, activation='linear')(merged_embedding)\n",
        "\n",
        "    # Membangun model\n",
        "    model = Model(inputs=[category_input, merchant_input], outputs=output)\n",
        "    model.compile(loss='mean_squared_error', optimizer=Adam(learning_rate=0.001))\n",
        "\n",
        "    return model"
      ],
      "metadata": {
        "id": "nrGINX2m3kqt"
      },
      "execution_count": null,
      "outputs": []
    },
    {
      "cell_type": "code",
      "source": [
        "# Membangun data training\n",
        "barang_categories = list(set([barang[2] for barang in barang_data])) \n",
        "barang_merchants = list(set([barang[3] for barang in barang_data]))\n",
        "\n",
        "category_mapping = {category: i for i, category in enumerate(barang_categories)}\n",
        "merchant_mapping = {merchant: i for i, merchant in enumerate(barang_merchants)}\n",
        "\n",
        "X_category = [category_mapping[barang[2]] for barang in barang_data]\n",
        "X_merchant = [merchant_mapping[barang[3]] for barang in barang_data]\n",
        "y_rating = [0.0] * len(user_preferences) "
      ],
      "metadata": {
        "id": "SMp3JUhW3tjY"
      },
      "execution_count": null,
      "outputs": []
    },
    {
      "cell_type": "code",
      "source": [
        "# Membangun model dengan embedding_dim=10\n",
        "model = build_model(len(barang_categories), len(barang_merchants), embedding_dim=10)\n",
        "\n",
        "# Melatih model\n",
        "model.fit([X_category, X_merchant], y_rating, epochs=10, batch_size=len(user_preferences))\n",
        "\n",
        "# Membangun data pengguna\n",
        "user_category_indices = [category_mapping[category] for category in user_category_preferences]\n",
        "user_merchant_indices = [merchant_mapping.get(merchant, len(merchant_mapping)) for merchant in user_merchant_preferences]"
      ],
      "metadata": {
        "colab": {
          "base_uri": "https://localhost:8080/",
          "height": 467
        },
        "id": "Qxb0u8RJ37I_",
        "outputId": "40661e82-da61-4b88-f8d4-76d9bf898d4f"
      },
      "execution_count": null,
      "outputs": [
        {
          "output_type": "error",
          "ename": "ValueError",
          "evalue": "ignored",
          "traceback": [
            "\u001b[0;31m---------------------------------------------------------------------------\u001b[0m",
            "\u001b[0;31mValueError\u001b[0m                                Traceback (most recent call last)",
            "\u001b[0;32m<ipython-input-28-44a42074d98c>\u001b[0m in \u001b[0;36m<cell line: 5>\u001b[0;34m()\u001b[0m\n\u001b[1;32m      3\u001b[0m \u001b[0;34m\u001b[0m\u001b[0m\n\u001b[1;32m      4\u001b[0m \u001b[0;31m# Melatih model\u001b[0m\u001b[0;34m\u001b[0m\u001b[0;34m\u001b[0m\u001b[0m\n\u001b[0;32m----> 5\u001b[0;31m \u001b[0mmodel\u001b[0m\u001b[0;34m.\u001b[0m\u001b[0mfit\u001b[0m\u001b[0;34m(\u001b[0m\u001b[0;34m[\u001b[0m\u001b[0mX_category\u001b[0m\u001b[0;34m,\u001b[0m \u001b[0mX_merchant\u001b[0m\u001b[0;34m]\u001b[0m\u001b[0;34m,\u001b[0m \u001b[0my_rating\u001b[0m\u001b[0;34m,\u001b[0m \u001b[0mepochs\u001b[0m\u001b[0;34m=\u001b[0m\u001b[0;36m10\u001b[0m\u001b[0;34m,\u001b[0m \u001b[0mbatch_size\u001b[0m\u001b[0;34m=\u001b[0m\u001b[0mlen\u001b[0m\u001b[0;34m(\u001b[0m\u001b[0muser_preferences\u001b[0m\u001b[0;34m)\u001b[0m\u001b[0;34m)\u001b[0m\u001b[0;34m\u001b[0m\u001b[0;34m\u001b[0m\u001b[0m\n\u001b[0m\u001b[1;32m      6\u001b[0m \u001b[0;34m\u001b[0m\u001b[0m\n\u001b[1;32m      7\u001b[0m \u001b[0;31m# Membangun data pengguna\u001b[0m\u001b[0;34m\u001b[0m\u001b[0;34m\u001b[0m\u001b[0m\n",
            "\u001b[0;32m/usr/local/lib/python3.10/dist-packages/keras/utils/traceback_utils.py\u001b[0m in \u001b[0;36merror_handler\u001b[0;34m(*args, **kwargs)\u001b[0m\n\u001b[1;32m     68\u001b[0m             \u001b[0;31m# To get the full stack trace, call:\u001b[0m\u001b[0;34m\u001b[0m\u001b[0;34m\u001b[0m\u001b[0m\n\u001b[1;32m     69\u001b[0m             \u001b[0;31m# `tf.debugging.disable_traceback_filtering()`\u001b[0m\u001b[0;34m\u001b[0m\u001b[0;34m\u001b[0m\u001b[0m\n\u001b[0;32m---> 70\u001b[0;31m             \u001b[0;32mraise\u001b[0m \u001b[0me\u001b[0m\u001b[0;34m.\u001b[0m\u001b[0mwith_traceback\u001b[0m\u001b[0;34m(\u001b[0m\u001b[0mfiltered_tb\u001b[0m\u001b[0;34m)\u001b[0m \u001b[0;32mfrom\u001b[0m \u001b[0;32mNone\u001b[0m\u001b[0;34m\u001b[0m\u001b[0;34m\u001b[0m\u001b[0m\n\u001b[0m\u001b[1;32m     71\u001b[0m         \u001b[0;32mfinally\u001b[0m\u001b[0;34m:\u001b[0m\u001b[0;34m\u001b[0m\u001b[0;34m\u001b[0m\u001b[0m\n\u001b[1;32m     72\u001b[0m             \u001b[0;32mdel\u001b[0m \u001b[0mfiltered_tb\u001b[0m\u001b[0;34m\u001b[0m\u001b[0;34m\u001b[0m\u001b[0m\n",
            "\u001b[0;32m/usr/local/lib/python3.10/dist-packages/keras/engine/data_adapter.py\u001b[0m in \u001b[0;36m_check_data_cardinality\u001b[0;34m(data)\u001b[0m\n\u001b[1;32m   1850\u001b[0m             )\n\u001b[1;32m   1851\u001b[0m         \u001b[0mmsg\u001b[0m \u001b[0;34m+=\u001b[0m \u001b[0;34m\"Make sure all arrays contain the same number of samples.\"\u001b[0m\u001b[0;34m\u001b[0m\u001b[0;34m\u001b[0m\u001b[0m\n\u001b[0;32m-> 1852\u001b[0;31m         \u001b[0;32mraise\u001b[0m \u001b[0mValueError\u001b[0m\u001b[0;34m(\u001b[0m\u001b[0mmsg\u001b[0m\u001b[0;34m)\u001b[0m\u001b[0;34m\u001b[0m\u001b[0;34m\u001b[0m\u001b[0m\n\u001b[0m\u001b[1;32m   1853\u001b[0m \u001b[0;34m\u001b[0m\u001b[0m\n\u001b[1;32m   1854\u001b[0m \u001b[0;34m\u001b[0m\u001b[0m\n",
            "\u001b[0;31mValueError\u001b[0m: Data cardinality is ambiguous:\n  x sizes: 2\n  y sizes: 3\nMake sure all arrays contain the same number of samples."
          ]
        }
      ]
    },
    {
      "cell_type": "code",
      "source": [
        "# Membuat rekomendasi\n",
        "user_category_ids = [category_mapping[category] for category in user_category_preferences]\n",
        "user_merchant_ids = [merchant_mapping[merchant] for merchant in user_merchant_preferences]"
      ],
      "metadata": {
        "id": "Qy4qCauS4EjX"
      },
      "execution_count": null,
      "outputs": []
    },
    {
      "cell_type": "code",
      "source": [
        "predictions = model.predict([user_category_ids, user_merchant_ids])\n",
        "recommended_items = [barang[1] for barang in barang_data if barang[0] in predictions.argsort(axis=0)[-5:].flatten()]\n",
        "\n",
        "print"
      ],
      "metadata": {
        "colab": {
          "base_uri": "https://localhost:8080/",
          "height": 235
        },
        "id": "tijYIg234GR8",
        "outputId": "4479cdab-0d8f-48a9-85e7-0c261f2939c8"
      },
      "execution_count": null,
      "outputs": [
        {
          "output_type": "error",
          "ename": "NameError",
          "evalue": "ignored",
          "traceback": [
            "\u001b[0;31m---------------------------------------------------------------------------\u001b[0m",
            "\u001b[0;31mNameError\u001b[0m                                 Traceback (most recent call last)",
            "\u001b[0;32m<ipython-input-16-fa6c1df038d5>\u001b[0m in \u001b[0;36m<cell line: 1>\u001b[0;34m()\u001b[0m\n\u001b[0;32m----> 1\u001b[0;31m \u001b[0mpredictions\u001b[0m \u001b[0;34m=\u001b[0m \u001b[0mmodel\u001b[0m\u001b[0;34m.\u001b[0m\u001b[0mpredict\u001b[0m\u001b[0;34m(\u001b[0m\u001b[0;34m[\u001b[0m\u001b[0muser_category_ids\u001b[0m\u001b[0;34m,\u001b[0m \u001b[0muser_merchant_ids\u001b[0m\u001b[0;34m]\u001b[0m\u001b[0;34m)\u001b[0m\u001b[0;34m\u001b[0m\u001b[0;34m\u001b[0m\u001b[0m\n\u001b[0m\u001b[1;32m      2\u001b[0m \u001b[0mrecommended_items\u001b[0m \u001b[0;34m=\u001b[0m \u001b[0;34m[\u001b[0m\u001b[0mbarang\u001b[0m\u001b[0;34m[\u001b[0m\u001b[0;36m1\u001b[0m\u001b[0;34m]\u001b[0m \u001b[0;32mfor\u001b[0m \u001b[0mbarang\u001b[0m \u001b[0;32min\u001b[0m \u001b[0mbarang_data\u001b[0m \u001b[0;32mif\u001b[0m \u001b[0mbarang\u001b[0m\u001b[0;34m[\u001b[0m\u001b[0;36m0\u001b[0m\u001b[0;34m]\u001b[0m \u001b[0;32min\u001b[0m \u001b[0mpredictions\u001b[0m\u001b[0;34m.\u001b[0m\u001b[0margsort\u001b[0m\u001b[0;34m(\u001b[0m\u001b[0maxis\u001b[0m\u001b[0;34m=\u001b[0m\u001b[0;36m0\u001b[0m\u001b[0;34m)\u001b[0m\u001b[0;34m[\u001b[0m\u001b[0;34m-\u001b[0m\u001b[0;36m5\u001b[0m\u001b[0;34m:\u001b[0m\u001b[0;34m]\u001b[0m\u001b[0;34m.\u001b[0m\u001b[0mflatten\u001b[0m\u001b[0;34m(\u001b[0m\u001b[0;34m)\u001b[0m\u001b[0;34m]\u001b[0m\u001b[0;34m\u001b[0m\u001b[0;34m\u001b[0m\u001b[0m\n\u001b[1;32m      3\u001b[0m \u001b[0;34m\u001b[0m\u001b[0m\n\u001b[1;32m      4\u001b[0m \u001b[0mprint\u001b[0m\u001b[0;34m\u001b[0m\u001b[0;34m\u001b[0m\u001b[0m\n",
            "\u001b[0;31mNameError\u001b[0m: name 'user_category_ids' is not defined"
          ]
        }
      ]
    }
  ]
}